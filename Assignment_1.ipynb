{
  "nbformat": 4,
  "nbformat_minor": 0,
  "metadata": {
    "colab": {
      "provenance": []
    },
    "kernelspec": {
      "name": "python3",
      "display_name": "Python 3"
    },
    "language_info": {
      "name": "python"
    }
  },
  "cells": [
    {
      "cell_type": "markdown",
      "source": [],
      "metadata": {
        "id": "eFXguyDRb8_J"
      }
    },
    {
      "cell_type": "code",
      "execution_count": null,
      "metadata": {
        "colab": {
          "base_uri": "https://localhost:8080/"
        },
        "id": "T8UwWEFVbA15",
        "outputId": "04cb39ba-21b3-4bb7-927b-3d4c85f9d684"
      },
      "outputs": [
        {
          "output_type": "stream",
          "name": "stdout",
          "text": [
            "[11, 12, 13, 14, 50, 60]\n"
          ]
        }
      ],
      "source": [
        "# @title Question 1 (i)\n",
        "\n",
        "L = [11,12,13,14]\n",
        "\n",
        "L.append(50)\n",
        "L.append(60)\n",
        "\n",
        "print(L)"
      ]
    },
    {
      "cell_type": "code",
      "source": [
        "del L[0]\n",
        "del L[2]\n",
        "print(L)"
      ],
      "metadata": {
        "colab": {
          "base_uri": "https://localhost:8080/"
        },
        "id": "5CaxuN-QeWia",
        "outputId": "24867adf-2772-4cef-ae50-34e42d6e0e72"
      },
      "execution_count": null,
      "outputs": [
        {
          "output_type": "stream",
          "name": "stdout",
          "text": [
            "[12, 13, 50, 60]\n"
          ]
        }
      ]
    },
    {
      "cell_type": "code",
      "source": [
        "L.sort()\n",
        "print(L)"
      ],
      "metadata": {
        "colab": {
          "base_uri": "https://localhost:8080/"
        },
        "id": "qaLvkAVTengY",
        "outputId": "180f2ef5-2772-439a-870a-73e3881204e9"
      },
      "execution_count": null,
      "outputs": [
        {
          "output_type": "stream",
          "name": "stdout",
          "text": [
            "[12, 13, 50, 60]\n"
          ]
        }
      ]
    },
    {
      "cell_type": "code",
      "source": [
        "L.sort(reverse=True)\n",
        "print(L)"
      ],
      "metadata": {
        "colab": {
          "base_uri": "https://localhost:8080/"
        },
        "id": "Fyf69QgOeuI_",
        "outputId": "ae6761dd-9a0a-452c-aa12-d43899b9b97c"
      },
      "execution_count": null,
      "outputs": [
        {
          "output_type": "stream",
          "name": "stdout",
          "text": [
            "[60, 50, 13, 12]\n"
          ]
        }
      ]
    },
    {
      "cell_type": "code",
      "source": [
        "print(13 in L)"
      ],
      "metadata": {
        "colab": {
          "base_uri": "https://localhost:8080/"
        },
        "id": "7YPz30HHe6d2",
        "outputId": "5c54cef9-075a-4949-9f30-32bd8056326b"
      },
      "execution_count": null,
      "outputs": [
        {
          "output_type": "stream",
          "name": "stdout",
          "text": [
            "True\n"
          ]
        }
      ]
    },
    {
      "cell_type": "code",
      "source": [
        "print(len(L))"
      ],
      "metadata": {
        "colab": {
          "base_uri": "https://localhost:8080/"
        },
        "id": "qCqPB2JufXFw",
        "outputId": "8f6011cb-dce1-44e2-faa0-474268e92172"
      },
      "execution_count": null,
      "outputs": [
        {
          "output_type": "stream",
          "name": "stdout",
          "text": [
            "4\n"
          ]
        }
      ]
    },
    {
      "cell_type": "code",
      "source": [
        "print(sum(L))"
      ],
      "metadata": {
        "colab": {
          "base_uri": "https://localhost:8080/"
        },
        "id": "Ulr3W4g4hdhU",
        "outputId": "0a8cffde-0754-475f-d4bc-5ec8d34164d6"
      },
      "execution_count": null,
      "outputs": [
        {
          "output_type": "stream",
          "name": "stdout",
          "text": [
            "135\n"
          ]
        }
      ]
    },
    {
      "cell_type": "code",
      "source": [
        "sum = 0\n",
        "\n",
        "for i in L :\n",
        "\n",
        "  if i%2 != 0 :\n",
        "    sum = sum+i\n",
        "\n",
        "print(sum)"
      ],
      "metadata": {
        "colab": {
          "base_uri": "https://localhost:8080/"
        },
        "id": "i1p0aDzdhkWQ",
        "outputId": "e11d977a-5755-4093-e0a4-dc5e39fd43fb"
      },
      "execution_count": null,
      "outputs": [
        {
          "output_type": "stream",
          "name": "stdout",
          "text": [
            "13\n"
          ]
        }
      ]
    },
    {
      "cell_type": "code",
      "source": [
        "sum = 0\n",
        "for i in L:\n",
        "  if i%2==0:\n",
        "    sum=i+sum\n",
        "\n",
        "print(sum)\n"
      ],
      "metadata": {
        "colab": {
          "base_uri": "https://localhost:8080/"
        },
        "id": "Y3ArDaDUikV5",
        "outputId": "3963f8ba-008b-4ce0-cba8-901493a88021"
      },
      "execution_count": null,
      "outputs": [
        {
          "output_type": "stream",
          "name": "stdout",
          "text": [
            "122\n"
          ]
        }
      ]
    },
    {
      "cell_type": "code",
      "source": [
        "def prime(n):\n",
        "  f=0\n",
        "  for i in range(1,n//2 +1):\n",
        "       if n%i == 0:\n",
        "          f+=1\n",
        "\n",
        "  if f>1 :\n",
        "   return 0\n",
        "  else :\n",
        "    return 1\n",
        "sum =0\n",
        "for i in L :\n",
        "\n",
        "  if prime(i) == 1:\n",
        "    sum = sum +i\n",
        "print(sum)"
      ],
      "metadata": {
        "colab": {
          "base_uri": "https://localhost:8080/"
        },
        "id": "o6GFxYDbi7jg",
        "outputId": "aa8f0678-5901-4d2a-825d-a6cbdf07947f"
      },
      "execution_count": null,
      "outputs": [
        {
          "output_type": "stream",
          "name": "stdout",
          "text": [
            "13\n"
          ]
        }
      ]
    },
    {
      "cell_type": "code",
      "source": [
        "L.clear()\n",
        "print(L)"
      ],
      "metadata": {
        "colab": {
          "base_uri": "https://localhost:8080/"
        },
        "id": "SsZ2IvbhlFo1",
        "outputId": "0f475c5b-f9af-455e-94b9-3389c43d8d1d"
      },
      "execution_count": null,
      "outputs": [
        {
          "output_type": "stream",
          "name": "stdout",
          "text": [
            "[]\n"
          ]
        }
      ]
    },
    {
      "cell_type": "code",
      "source": [
        "del(L)\n",
        "print(L)"
      ],
      "metadata": {
        "colab": {
          "base_uri": "https://localhost:8080/",
          "height": 184
        },
        "id": "5J4Sxd5HlK_g",
        "outputId": "7421d27d-2867-4239-e78e-b7f2e7433003"
      },
      "execution_count": null,
      "outputs": [
        {
          "output_type": "error",
          "ename": "NameError",
          "evalue": "ignored",
          "traceback": [
            "\u001b[0;31m---------------------------------------------------------------------------\u001b[0m",
            "\u001b[0;31mNameError\u001b[0m                                 Traceback (most recent call last)",
            "\u001b[0;32m<ipython-input-22-75aa0dd6f79f>\u001b[0m in \u001b[0;36m<cell line: 2>\u001b[0;34m()\u001b[0m\n\u001b[1;32m      1\u001b[0m \u001b[0;32mdel\u001b[0m\u001b[0;34m(\u001b[0m\u001b[0mL\u001b[0m\u001b[0;34m)\u001b[0m\u001b[0;34m\u001b[0m\u001b[0;34m\u001b[0m\u001b[0m\n\u001b[0;32m----> 2\u001b[0;31m \u001b[0mprint\u001b[0m\u001b[0;34m(\u001b[0m\u001b[0mL\u001b[0m\u001b[0;34m)\u001b[0m\u001b[0;34m\u001b[0m\u001b[0;34m\u001b[0m\u001b[0m\n\u001b[0m",
            "\u001b[0;31mNameError\u001b[0m: name 'L' is not defined"
          ]
        }
      ]
    },
    {
      "cell_type": "markdown",
      "source": [
        "# Question 2"
      ],
      "metadata": {
        "id": "80fv-iwglTPe"
      }
    },
    {
      "cell_type": "code",
      "source": [
        "D = { 1:5.6 , 2:7.8 , 3:6.6 , 4:8.7, 5:7.7}\n",
        "\n",
        "D[8] = 8.8\n",
        "\n",
        "print(D)"
      ],
      "metadata": {
        "colab": {
          "base_uri": "https://localhost:8080/"
        },
        "id": "ccpwXpsBlaRF",
        "outputId": "b117e987-8588-461d-b5e2-f7601655c068"
      },
      "execution_count": null,
      "outputs": [
        {
          "output_type": "stream",
          "name": "stdout",
          "text": [
            "{1: 5.6, 2: 7.8, 3: 6.6, 4: 8.7, 5: 7.7, 8: 8.8}\n"
          ]
        }
      ]
    },
    {
      "cell_type": "code",
      "source": [
        "del D[2]\n",
        "print(D)"
      ],
      "metadata": {
        "colab": {
          "base_uri": "https://localhost:8080/"
        },
        "id": "DKxM2gIImetl",
        "outputId": "6429fb8c-647f-4bc3-8aea-119a01333e0e"
      },
      "execution_count": null,
      "outputs": [
        {
          "output_type": "stream",
          "name": "stdout",
          "text": [
            "{1: 5.6, 3: 6.6, 4: 8.7, 5: 7.7, 8: 8.8}\n"
          ]
        }
      ]
    },
    {
      "cell_type": "code",
      "source": [
        "if 6 in D:\n",
        "  print(\"present\")\n",
        "else:\n",
        "  print(\"not present\")"
      ],
      "metadata": {
        "id": "gfBZ686xmw5g",
        "colab": {
          "base_uri": "https://localhost:8080/"
        },
        "outputId": "77a60b2f-5502-4655-f21d-74c4a3fb6036"
      },
      "execution_count": null,
      "outputs": [
        {
          "output_type": "stream",
          "name": "stdout",
          "text": [
            "not present\n"
          ]
        }
      ]
    },
    {
      "cell_type": "code",
      "source": [
        "len(D)"
      ],
      "metadata": {
        "colab": {
          "base_uri": "https://localhost:8080/"
        },
        "id": "iIXtGgeI0vcZ",
        "outputId": "53f5ee7d-ccc2-4264-b455-364405b6c795"
      },
      "execution_count": null,
      "outputs": [
        {
          "output_type": "execute_result",
          "data": {
            "text/plain": [
              "5"
            ]
          },
          "metadata": {},
          "execution_count": 8
        }
      ]
    },
    {
      "cell_type": "code",
      "source": [
        "L = list(D.values())\n",
        "sum=0\n",
        "for i in L:\n",
        "  sum = sum + i\n",
        "print(sum)"
      ],
      "metadata": {
        "colab": {
          "base_uri": "https://localhost:8080/"
        },
        "id": "1DhUAE0q01as",
        "outputId": "ab6f8ddd-4a24-4cdf-e2a8-d3e0921176c2"
      },
      "execution_count": null,
      "outputs": [
        {
          "output_type": "stream",
          "name": "stdout",
          "text": [
            "37.4\n"
          ]
        }
      ]
    },
    {
      "cell_type": "code",
      "source": [
        "D[3] = 7.1\n",
        "D"
      ],
      "metadata": {
        "colab": {
          "base_uri": "https://localhost:8080/"
        },
        "id": "dv3aeSYP1N7P",
        "outputId": "07962d00-d183-43c1-bad0-140a0b07cc0d"
      },
      "execution_count": null,
      "outputs": [
        {
          "output_type": "execute_result",
          "data": {
            "text/plain": [
              "{1: 5.6, 3: 7.1, 4: 8.7, 5: 7.7, 8: 8.8}"
            ]
          },
          "metadata": {},
          "execution_count": 11
        }
      ]
    },
    {
      "cell_type": "code",
      "source": [
        "D.clear()\n",
        "D"
      ],
      "metadata": {
        "colab": {
          "base_uri": "https://localhost:8080/"
        },
        "id": "AKWj4U6p1jYb",
        "outputId": "b05e68ca-f8c5-498d-a576-d93eb8086fd1"
      },
      "execution_count": null,
      "outputs": [
        {
          "output_type": "execute_result",
          "data": {
            "text/plain": [
              "{}"
            ]
          },
          "metadata": {},
          "execution_count": 13
        }
      ]
    },
    {
      "cell_type": "code",
      "source": [
        "del D\n",
        "D"
      ],
      "metadata": {
        "colab": {
          "base_uri": "https://localhost:8080/",
          "height": 184
        },
        "id": "rwASAkQg18Kl",
        "outputId": "e1cd46c2-5f3a-4daa-90ca-5cff769cc8f5"
      },
      "execution_count": null,
      "outputs": [
        {
          "output_type": "error",
          "ename": "NameError",
          "evalue": "ignored",
          "traceback": [
            "\u001b[0;31m---------------------------------------------------------------------------\u001b[0m",
            "\u001b[0;31mNameError\u001b[0m                                 Traceback (most recent call last)",
            "\u001b[0;32m<ipython-input-14-191bcbf31fad>\u001b[0m in \u001b[0;36m<cell line: 2>\u001b[0;34m()\u001b[0m\n\u001b[1;32m      1\u001b[0m \u001b[0;32mdel\u001b[0m \u001b[0mD\u001b[0m\u001b[0;34m\u001b[0m\u001b[0;34m\u001b[0m\u001b[0m\n\u001b[0;32m----> 2\u001b[0;31m \u001b[0mD\u001b[0m\u001b[0;34m\u001b[0m\u001b[0;34m\u001b[0m\u001b[0m\n\u001b[0m",
            "\u001b[0;31mNameError\u001b[0m: name 'D' is not defined"
          ]
        }
      ]
    },
    {
      "cell_type": "markdown",
      "source": [
        "# Question 3"
      ],
      "metadata": {
        "id": "YUxP-xkT2BbK"
      }
    },
    {
      "cell_type": "code",
      "source": [
        "S1 = set([10 , 20 , 30,40,50,60])\n",
        "S2 = set([40,50,60,70,80,90])\n",
        "S1.add(55)\n",
        "S1.add(66)\n",
        "S1"
      ],
      "metadata": {
        "colab": {
          "base_uri": "https://localhost:8080/"
        },
        "id": "CEVTn0Ux2F2g",
        "outputId": "4dd02e86-0372-4efc-94ed-b473b85f8557"
      },
      "execution_count": null,
      "outputs": [
        {
          "output_type": "execute_result",
          "data": {
            "text/plain": [
              "{10, 20, 30, 40, 50, 55, 60, 66}"
            ]
          },
          "metadata": {},
          "execution_count": 15
        },
        {
          "output_type": "execute_result",
          "data": {
            "text/plain": [
              "{10, 20, 30, 40, 50, 55, 60, 66}"
            ]
          },
          "metadata": {},
          "execution_count": 16
        }
      ]
    },
    {
      "cell_type": "code",
      "source": [
        "S1.remove(10)\n",
        "S1.remove(30)\n",
        "S1"
      ],
      "metadata": {
        "colab": {
          "base_uri": "https://localhost:8080/"
        },
        "id": "MURZOf5x34oT",
        "outputId": "1b7a4d01-9eec-4ef2-cdd3-930256ff25e1"
      },
      "execution_count": null,
      "outputs": [
        {
          "output_type": "execute_result",
          "data": {
            "text/plain": [
              "{20, 40, 50, 55, 60, 66}"
            ]
          },
          "metadata": {},
          "execution_count": 17
        }
      ]
    },
    {
      "cell_type": "code",
      "source": [
        "if 40 in S1:\n",
        "  print(\"present\")\n",
        "else:\n",
        "  print(\"not Present\")"
      ],
      "metadata": {
        "colab": {
          "base_uri": "https://localhost:8080/"
        },
        "id": "-4h_BYfA4JjL",
        "outputId": "e843d639-95e9-4e65-bf07-e78ac8b21ad7"
      },
      "execution_count": null,
      "outputs": [
        {
          "output_type": "stream",
          "name": "stdout",
          "text": [
            "present\n"
          ]
        }
      ]
    },
    {
      "cell_type": "code",
      "source": [
        "print(S1.union(S2))"
      ],
      "metadata": {
        "colab": {
          "base_uri": "https://localhost:8080/"
        },
        "id": "-Vk_XQDy4Ujj",
        "outputId": "82b20d71-2964-415e-9da0-5b59ed924422"
      },
      "execution_count": null,
      "outputs": [
        {
          "output_type": "stream",
          "name": "stdout",
          "text": [
            "{66, 70, 40, 80, 50, 20, 55, 90, 60}\n"
          ]
        }
      ]
    },
    {
      "cell_type": "code",
      "source": [
        "print(S1.intersection(S2))"
      ],
      "metadata": {
        "colab": {
          "base_uri": "https://localhost:8080/"
        },
        "id": "0XB6jO9A4lPN",
        "outputId": "29e2b5ef-cf47-44f6-9037-6773f1753c80"
      },
      "execution_count": null,
      "outputs": [
        {
          "output_type": "stream",
          "name": "stdout",
          "text": [
            "{40, 50, 60}\n"
          ]
        }
      ]
    },
    {
      "cell_type": "code",
      "source": [
        "print(S1-S2)"
      ],
      "metadata": {
        "colab": {
          "base_uri": "https://localhost:8080/"
        },
        "id": "KrqQtW1O4rRZ",
        "outputId": "ffe4a89c-3852-418f-cb2e-c5ec0adf3099"
      },
      "execution_count": null,
      "outputs": [
        {
          "output_type": "stream",
          "name": "stdout",
          "text": [
            "{66, 20, 55}\n"
          ]
        }
      ]
    },
    {
      "cell_type": "markdown",
      "source": [
        "# Question 4"
      ],
      "metadata": {
        "id": "xU8LR8c24xEd"
      }
    },
    {
      "cell_type": "code",
      "source": [
        "import string as s\n",
        "import random as r\n",
        "\n",
        "for i in range(0,100):\n",
        "  print( \"\".join(r.sample(s.ascii_letters , 7)) , end='  ')\n"
      ],
      "metadata": {
        "colab": {
          "base_uri": "https://localhost:8080/"
        },
        "id": "1qF5cXAC40b0",
        "outputId": "d8355838-7238-4bab-cf20-3090657bbb80"
      },
      "execution_count": null,
      "outputs": [
        {
          "output_type": "stream",
          "name": "stdout",
          "text": [
            "EGfaRPp  BoZASqi  eqlsTcN  VzRdbjF  cwbrLJB  NHMwKaZ  RBxUNOP  prjqTMN  ElFqmnh  igfmROl  eTMQukW  KzkqXMO  NYVMwDe  PWQIcXn  zVxdetv  disQacF  FNCukPj  SuephZP  xqMpLeu  lVCsEKF  mvLyMAs  srvgJPf  XdwqMce  krYtjGz  MeIVSfP  ncbdiVx  hvROqzo  SnEFueB  pMdWFJy  EdPoZrU  CoPdbUi  mBxUaWh  zoqRykc  cxrVagF  RtfUzbP  aZgtPCl  mEwjTvP  YTfjbXH  whamKRc  XjNwRFA  cQhDmvB  wFdzovb  cWopgOd  LNZoUhn  teqoIVx  LfIPRez  DNZeLFv  pbonXrd  FyxTGPV  PgqenlA  hAPFVsL  IXwgBzy  mvufRKk  NnkOZQF  pSkrcQJ  XPfYViT  hRoXsmE  LenCjpd  qinalbv  EZjutIa  nSKyLgA  rUViFJI  QVSweZF  EmuQnAU  dArBJWc  ljMkwnQ  aXnxmSh  XhBUMRi  FzoCUvq  YUMthGq  vtMhWop  dKWxjNF  qjgUWeZ  dDnirmJ  kGQPWme  wPQMFVn  yIFtoGe  djExQiX  MersFpq  JwRDBuY  OptYcuq  QRVqcrm  DcUnhTr  diIvzXU  rnxOAlU  suzBPca  kOfzvKM  TrUAygl  FVmThCi  yMmUsjP  CTmVoaq  UFXHPIB  niGhQVw  CqmsVNl  HXxfsdz  sXCMSTy  dSozRAh  OtmNncs  rbAPmSp  cAqwTVK  "
          ]
        }
      ]
    },
    {
      "cell_type": "code",
      "source": [
        "def prime(n):\n",
        "    f=0\n",
        "    for i in range(1 , (n//2)+1):\n",
        "      if n%i == 0:\n",
        "        f+=1\n",
        "    if f>1:\n",
        "      return 0\n",
        "    else:\n",
        "      return 1\n",
        "\n",
        "\n",
        "for i in range(600,801):\n",
        "  if prime(i) == 1:\n",
        "     print(i , end = ' ')\n"
      ],
      "metadata": {
        "colab": {
          "base_uri": "https://localhost:8080/"
        },
        "id": "t79LvkjN8Vrm",
        "outputId": "58454ec5-e724-4363-c32c-b4dfae263da8"
      },
      "execution_count": null,
      "outputs": [
        {
          "output_type": "stream",
          "name": "stdout",
          "text": [
            "601 607 613 617 619 631 641 643 647 653 659 661 673 677 683 691 701 709 719 727 733 739 743 751 757 761 769 773 787 797 "
          ]
        }
      ]
    },
    {
      "cell_type": "code",
      "source": [
        "for i in range(100 , 1000):\n",
        "  if (i%7 == 0 or i%9== 0) :\n",
        "    print(i , end=' ')"
      ],
      "metadata": {
        "colab": {
          "base_uri": "https://localhost:8080/"
        },
        "id": "t9Z1HyuF9qmI",
        "outputId": "66a5a954-2351-4c62-d152-9bd37f293dad"
      },
      "execution_count": null,
      "outputs": [
        {
          "output_type": "stream",
          "name": "stdout",
          "text": [
            "105 108 112 117 119 126 133 135 140 144 147 153 154 161 162 168 171 175 180 182 189 196 198 203 207 210 216 217 224 225 231 234 238 243 245 252 259 261 266 270 273 279 280 287 288 294 297 301 306 308 315 322 324 329 333 336 342 343 350 351 357 360 364 369 371 378 385 387 392 396 399 405 406 413 414 420 423 427 432 434 441 448 450 455 459 462 468 469 476 477 483 486 490 495 497 504 511 513 518 522 525 531 532 539 540 546 549 553 558 560 567 574 576 581 585 588 594 595 602 603 609 612 616 621 623 630 637 639 644 648 651 657 658 665 666 672 675 679 684 686 693 700 702 707 711 714 720 721 728 729 735 738 742 747 749 756 763 765 770 774 777 783 784 791 792 798 801 805 810 812 819 826 828 833 837 840 846 847 854 855 861 864 868 873 875 882 889 891 896 900 903 909 910 917 918 924 927 931 936 938 945 952 954 959 963 966 972 973 980 981 987 990 994 999 "
          ]
        }
      ]
    },
    {
      "cell_type": "code",
      "source": [
        "L1 = [r.randint(10 , 30) for i in range(0,10)]\n",
        "L2 = [r.randint(10,30) for i in range(0,10)]\n",
        "\n",
        "print(L1)\n",
        "print(L2)"
      ],
      "metadata": {
        "colab": {
          "base_uri": "https://localhost:8080/"
        },
        "id": "B2QdpaQOGnQ2",
        "outputId": "d933d213-9fab-4c20-9007-791d32ad1a43"
      },
      "execution_count": null,
      "outputs": [
        {
          "output_type": "stream",
          "name": "stdout",
          "text": [
            "[30, 21, 11, 27, 25, 18, 30, 20, 10, 16]\n",
            "[21, 18, 10, 14, 24, 14, 25, 17, 23, 28]\n"
          ]
        }
      ]
    },
    {
      "cell_type": "code",
      "source": [
        "common_number = set(L1).intersection(set(L2))\n",
        "common_number"
      ],
      "metadata": {
        "colab": {
          "base_uri": "https://localhost:8080/"
        },
        "id": "02U-ROR7Hkxt",
        "outputId": "8064e03f-999b-4a99-f211-93abf003e250"
      },
      "execution_count": null,
      "outputs": [
        {
          "output_type": "execute_result",
          "data": {
            "text/plain": [
              "{10, 18, 21, 25}"
            ]
          },
          "metadata": {},
          "execution_count": 37
        }
      ]
    },
    {
      "cell_type": "code",
      "source": [
        "unique_number = set(L1).symmetric_difference(set(L2))\n",
        "unique_number"
      ],
      "metadata": {
        "colab": {
          "base_uri": "https://localhost:8080/"
        },
        "id": "D_f0RnQ3If9j",
        "outputId": "a5d10030-4333-4c88-8f8c-9ae06d2a06c2"
      },
      "execution_count": null,
      "outputs": [
        {
          "output_type": "execute_result",
          "data": {
            "text/plain": [
              "{11, 14, 16, 17, 20, 23, 24, 27, 28, 30}"
            ]
          },
          "metadata": {},
          "execution_count": 38
        }
      ]
    },
    {
      "cell_type": "code",
      "source": [
        "l = set(L1).union(set(L2))\n",
        "l\n",
        "l-common_number"
      ],
      "metadata": {
        "colab": {
          "base_uri": "https://localhost:8080/"
        },
        "id": "J7FNx0XvJQ7h",
        "outputId": "4ed4d060-1b71-4f48-f9a1-de0d5c8c7500"
      },
      "execution_count": null,
      "outputs": [
        {
          "output_type": "execute_result",
          "data": {
            "text/plain": [
              "{11, 14, 16, 17, 20, 23, 24, 27, 28, 30}"
            ]
          },
          "metadata": {},
          "execution_count": 40
        }
      ]
    },
    {
      "cell_type": "code",
      "source": [
        "min_value1 = min(L1)\n",
        "min_value2 = min(L2)\n",
        "print(min_value1)\n",
        "print(min_value2)"
      ],
      "metadata": {
        "colab": {
          "base_uri": "https://localhost:8080/"
        },
        "id": "E0-wtqv4Jl3M",
        "outputId": "b12a042f-8a35-415d-d00c-b608c7cfc804"
      },
      "execution_count": null,
      "outputs": [
        {
          "output_type": "stream",
          "name": "stdout",
          "text": [
            "10\n",
            "10\n"
          ]
        }
      ]
    },
    {
      "cell_type": "code",
      "source": [
        "max_value1 = max(L1)\n",
        "max_value2 = max(L2)\n",
        "print(max_value1)\n",
        "print(max_value2)"
      ],
      "metadata": {
        "colab": {
          "base_uri": "https://localhost:8080/"
        },
        "id": "QqTCmTPXKYp3",
        "outputId": "21d5af4e-069a-489b-c83a-bc0b077a3fca"
      },
      "execution_count": null,
      "outputs": [
        {
          "output_type": "stream",
          "name": "stdout",
          "text": [
            "30\n",
            "28\n"
          ]
        }
      ]
    },
    {
      "cell_type": "code",
      "source": [
        "sum = L1+L2\n",
        "sum"
      ],
      "metadata": {
        "colab": {
          "base_uri": "https://localhost:8080/"
        },
        "id": "uCQWYKE6Km83",
        "outputId": "73d98ec5-f227-454d-ce03-305a0a1dc157"
      },
      "execution_count": null,
      "outputs": [
        {
          "output_type": "execute_result",
          "data": {
            "text/plain": [
              "[30,\n",
              " 21,\n",
              " 11,\n",
              " 27,\n",
              " 25,\n",
              " 18,\n",
              " 30,\n",
              " 20,\n",
              " 10,\n",
              " 16,\n",
              " 21,\n",
              " 18,\n",
              " 10,\n",
              " 14,\n",
              " 24,\n",
              " 14,\n",
              " 25,\n",
              " 17,\n",
              " 23,\n",
              " 28]"
            ]
          },
          "metadata": {},
          "execution_count": 44
        }
      ]
    },
    {
      "cell_type": "markdown",
      "source": [
        "# question 6"
      ],
      "metadata": {
        "id": "Ps_iiSoOKzhJ"
      }
    },
    {
      "cell_type": "code",
      "source": [
        "import random as r\n",
        "\n",
        "L = [r.randint(100,900) for i in range(0,100)]\n",
        "L"
      ],
      "metadata": {
        "colab": {
          "base_uri": "https://localhost:8080/"
        },
        "id": "hk-UqSLEK3Gs",
        "outputId": "c6d6171c-ac21-4ae2-a449-de8151efd129"
      },
      "execution_count": null,
      "outputs": [
        {
          "output_type": "execute_result",
          "data": {
            "text/plain": [
              "[774,\n",
              " 551,\n",
              " 200,\n",
              " 527,\n",
              " 354,\n",
              " 839,\n",
              " 588,\n",
              " 450,\n",
              " 870,\n",
              " 367,\n",
              " 640,\n",
              " 634,\n",
              " 185,\n",
              " 433,\n",
              " 730,\n",
              " 350,\n",
              " 597,\n",
              " 466,\n",
              " 639,\n",
              " 704,\n",
              " 572,\n",
              " 799,\n",
              " 483,\n",
              " 738,\n",
              " 681,\n",
              " 831,\n",
              " 369,\n",
              " 100,\n",
              " 495,\n",
              " 814,\n",
              " 701,\n",
              " 590,\n",
              " 266,\n",
              " 359,\n",
              " 683,\n",
              " 121,\n",
              " 489,\n",
              " 784,\n",
              " 616,\n",
              " 373,\n",
              " 421,\n",
              " 281,\n",
              " 682,\n",
              " 179,\n",
              " 832,\n",
              " 873,\n",
              " 168,\n",
              " 409,\n",
              " 796,\n",
              " 801,\n",
              " 185,\n",
              " 519,\n",
              " 776,\n",
              " 502,\n",
              " 451,\n",
              " 362,\n",
              " 649,\n",
              " 729,\n",
              " 879,\n",
              " 138,\n",
              " 802,\n",
              " 228,\n",
              " 731,\n",
              " 836,\n",
              " 255,\n",
              " 732,\n",
              " 228,\n",
              " 818,\n",
              " 621,\n",
              " 750,\n",
              " 851,\n",
              " 815,\n",
              " 259,\n",
              " 613,\n",
              " 886,\n",
              " 712,\n",
              " 109,\n",
              " 362,\n",
              " 661,\n",
              " 545,\n",
              " 485,\n",
              " 263,\n",
              " 237,\n",
              " 730,\n",
              " 596,\n",
              " 590,\n",
              " 494,\n",
              " 742,\n",
              " 535,\n",
              " 556,\n",
              " 640,\n",
              " 192,\n",
              " 478,\n",
              " 852,\n",
              " 305,\n",
              " 749,\n",
              " 404,\n",
              " 738,\n",
              " 546,\n",
              " 222]"
            ]
          },
          "metadata": {},
          "execution_count": 45
        }
      ]
    },
    {
      "cell_type": "code",
      "source": [
        "def prime(n):\n",
        "  f=0\n",
        "  for i in range(1, (n//2)+1):\n",
        "    if n%i == 0:\n",
        "      f=f+1\n",
        "  if f>1:\n",
        "    return 0\n",
        "  else:\n",
        "    return 1\n",
        "Odd_List = []\n",
        "Even_List = []\n",
        "Prime_List =[]\n",
        "for i in L :\n",
        "  if i%2==0:\n",
        "    Even_List.append(i)\n",
        "  elif i%2 != 0 :\n",
        "    Odd_List.append(i)\n",
        "  if prime(i) == 1:\n",
        "    Prime_List.append(i)\n",
        "\n",
        "print(Odd_List)\n",
        "print(Even_List)\n",
        "print(Prime_List)"
      ],
      "metadata": {
        "colab": {
          "base_uri": "https://localhost:8080/"
        },
        "id": "NflckQJVLKIV",
        "outputId": "62b85d31-9012-43a2-f886-c881f81f626d"
      },
      "execution_count": null,
      "outputs": [
        {
          "output_type": "stream",
          "name": "stdout",
          "text": [
            "[551, 527, 839, 367, 185, 433, 597, 639, 799, 483, 681, 831, 369, 495, 701, 359, 683, 121, 489, 373, 421, 281, 179, 873, 409, 801, 185, 519, 451, 649, 729, 879, 731, 255, 621, 851, 815, 259, 613, 109, 661, 545, 485, 263, 237, 535, 305, 749]\n",
            "[774, 200, 354, 588, 450, 870, 640, 634, 730, 350, 466, 704, 572, 738, 100, 814, 590, 266, 784, 616, 682, 832, 168, 796, 776, 502, 362, 138, 802, 228, 836, 732, 228, 818, 750, 886, 712, 362, 730, 596, 590, 494, 742, 556, 640, 192, 478, 852, 404, 738, 546, 222]\n",
            "[839, 367, 433, 701, 359, 683, 373, 421, 281, 179, 409, 613, 109, 661, 263]\n"
          ]
        }
      ]
    },
    {
      "cell_type": "markdown",
      "source": [
        "# Question 7"
      ],
      "metadata": {
        "id": "4q_xQ8WdOpZh"
      }
    },
    {
      "cell_type": "code",
      "source": [
        "D = { 1:\"One\" , 2:\"Two\",3:\"Three\" ,4:\"Four\",5:\"Five\"}"
      ],
      "metadata": {
        "id": "hBOUlHJxOtDh"
      },
      "execution_count": null,
      "outputs": []
    },
    {
      "cell_type": "code",
      "source": [
        "Key =list(D.keys())\n",
        "Value = list(D.values())\n",
        "print(Key)\n",
        "print(Value)"
      ],
      "metadata": {
        "colab": {
          "base_uri": "https://localhost:8080/"
        },
        "id": "p0QW10QjPEYK",
        "outputId": "21c8c7f2-bff2-4d58-fb6c-2c891ec68234"
      },
      "execution_count": null,
      "outputs": [
        {
          "output_type": "stream",
          "name": "stdout",
          "text": [
            "[1, 2, 3, 4, 5]\n",
            "['One', 'Two', 'Three', 'Four', 'Five']\n"
          ]
        }
      ]
    },
    {
      "cell_type": "code",
      "source": [
        "fp = open('/assg.txt','w')\n",
        "\n",
        "for i in range(0,3):\n",
        "  fp.write(str(Key[i])+\" , \"+str(Value[i])+\"\\n\")\n",
        "fp.close()"
      ],
      "metadata": {
        "id": "Xgmw20ZOPUq_"
      },
      "execution_count": null,
      "outputs": []
    },
    {
      "cell_type": "markdown",
      "source": [
        "# Question 8"
      ],
      "metadata": {
        "id": "qInpBpymS6T_"
      }
    },
    {
      "cell_type": "code",
      "source": [
        "L = [\"One\" , \"Two\" , \"Three\" , \"Four\", \"Five\"]\n",
        "fp = open('/assg2.txt' , 'w')\n",
        "\n",
        "for i in range(0,5):\n",
        "  fp.write(str(L[i]) + \" : \" + str(len(L[i])) + \"\\n\")\n",
        "fp.close()\n"
      ],
      "metadata": {
        "id": "2WaocBfHS9nL"
      },
      "execution_count": null,
      "outputs": []
    },
    {
      "cell_type": "code",
      "source": [
        "import random as r\n",
        "r.randint(10,15)"
      ],
      "metadata": {
        "colab": {
          "base_uri": "https://localhost:8080/"
        },
        "id": "7Osvzy67WhEw",
        "outputId": "14fd0722-38c1-43dc-c53e-975891b6185c"
      },
      "execution_count": null,
      "outputs": [
        {
          "output_type": "execute_result",
          "data": {
            "text/plain": [
              "14"
            ]
          },
          "metadata": {},
          "execution_count": 65
        }
      ]
    },
    {
      "cell_type": "markdown",
      "source": [
        "# Quetion 9"
      ],
      "metadata": {
        "id": "NdhbHhqOUEUv"
      }
    },
    {
      "cell_type": "code",
      "source": [
        "import random as r\n",
        "import string as s\n",
        "\n",
        "fp=open('/assg3.txt' , 'w')\n",
        "\n",
        "for i in range(0,100):\n",
        "  fp.write(str(\"\".join(r.sample(s.ascii_letters , r.randint(10,15) ) )  ) +\"\\n\" )\n",
        "fp.close()"
      ],
      "metadata": {
        "id": "QZ1Wgc7lUL5u"
      },
      "execution_count": null,
      "outputs": []
    },
    {
      "cell_type": "markdown",
      "source": [
        "# Quetion 10"
      ],
      "metadata": {
        "id": "l67iRY9bXQcS"
      }
    },
    {
      "cell_type": "code",
      "source": [
        "\n",
        "def prime(n):\n",
        "  f=0\n",
        "  for i in range(1, (n//2)+1):\n",
        "    if n%i == 0:\n",
        "      f=f+1\n",
        "  if f>1:\n",
        "    return 0\n",
        "  else:\n",
        "    return 1\n",
        "\n",
        "fp = open('/content/assg4.txt' , 'w')\n",
        "\n",
        "for i in range(600 , 801):\n",
        "  if prime(i) == 1:\n",
        "    fp.write(str(i)+\"\\n\")"
      ],
      "metadata": {
        "id": "dD1jrTaTXTN0"
      },
      "execution_count": null,
      "outputs": []
    },
    {
      "cell_type": "markdown",
      "source": [
        "# Quetion 11"
      ],
      "metadata": {
        "id": "5TdZe4e_b1wr"
      }
    },
    {
      "cell_type": "code",
      "source": [
        "import time\n",
        "\n",
        "start_time = time.time()\n",
        "\n",
        "for i in range(1,1000):\n",
        "  pass\n",
        "\n",
        "end_time = time.time()\n",
        "\n",
        "time_taken = end_time - start_time\n",
        "print(time_taken)"
      ],
      "metadata": {
        "colab": {
          "base_uri": "https://localhost:8080/"
        },
        "id": "Du0RWWuHb5i4",
        "outputId": "159aac68-deaf-4421-c8fb-60794de1285a"
      },
      "execution_count": null,
      "outputs": [
        {
          "output_type": "stream",
          "name": "stdout",
          "text": [
            "0.0001633167266845703\n"
          ]
        }
      ]
    },
    {
      "cell_type": "markdown",
      "source": [
        "# Quetion 12"
      ],
      "metadata": {
        "id": "tJAdDbctchoE"
      }
    },
    {
      "cell_type": "code",
      "source": [
        "import time as t\n",
        "import random as r\n",
        "\n",
        "start_time = t.time()\n",
        "\n",
        "L1 = []\n",
        "\n",
        "for i in range(0,5000):\n",
        "  L1.append(r.randint(1,110))\n",
        "end_time=t.time()\n",
        "\n",
        "time_taken1 = end_time - start_time\n",
        "time_taken1"
      ],
      "metadata": {
        "id": "WF39i-5zcsOT",
        "colab": {
          "base_uri": "https://localhost:8080/"
        },
        "outputId": "55679673-8854-427b-cfdb-ac9bbd221ca9"
      },
      "execution_count": 19,
      "outputs": [
        {
          "output_type": "execute_result",
          "data": {
            "text/plain": [
              "0.015093803405761719"
            ]
          },
          "metadata": {},
          "execution_count": 19
        }
      ]
    },
    {
      "cell_type": "code",
      "source": [
        "start_time = t.time()\n",
        "\n",
        "L2 = []\n",
        "\n",
        "for i in range(0,10000):\n",
        "  L2.append(r.randint(1,110))\n",
        "end_time=t.time()\n",
        "\n",
        "time_taken2 = end_time - start_time\n",
        "time_taken2"
      ],
      "metadata": {
        "colab": {
          "base_uri": "https://localhost:8080/"
        },
        "id": "n_EoKOnDel_V",
        "outputId": "ef463ef9-27b9-472a-eb0b-9462abb4c70c"
      },
      "execution_count": 20,
      "outputs": [
        {
          "output_type": "execute_result",
          "data": {
            "text/plain": [
              "0.025278091430664062"
            ]
          },
          "metadata": {},
          "execution_count": 20
        }
      ]
    },
    {
      "cell_type": "code",
      "source": [
        "start_time = t.time()\n",
        "\n",
        "L3 = []\n",
        "\n",
        "for i in range(0,15000):\n",
        "  L3.append(r.randint(1,110))\n",
        "end_time=t.time()\n",
        "\n",
        "time_taken3 = end_time - start_time\n",
        "time_taken3"
      ],
      "metadata": {
        "colab": {
          "base_uri": "https://localhost:8080/"
        },
        "id": "fYazwW6qe8Yw",
        "outputId": "4d822685-faab-4fd8-9ac9-059de167ff90"
      },
      "execution_count": 21,
      "outputs": [
        {
          "output_type": "execute_result",
          "data": {
            "text/plain": [
              "0.0498507022857666"
            ]
          },
          "metadata": {},
          "execution_count": 21
        }
      ]
    },
    {
      "cell_type": "code",
      "source": [
        "start_time = t.time()\n",
        "\n",
        "L4 = []\n",
        "\n",
        "for i in range(0,20000):\n",
        "  L4.append(r.randint(1,110))\n",
        "end_time=t.time()\n",
        "\n",
        "time_taken4 = end_time - start_time\n",
        "time_taken4"
      ],
      "metadata": {
        "colab": {
          "base_uri": "https://localhost:8080/"
        },
        "id": "Hn9ijMbXfQsl",
        "outputId": "e27caef3-cf75-44b5-92ab-c2732b9d4040"
      },
      "execution_count": 22,
      "outputs": [
        {
          "output_type": "execute_result",
          "data": {
            "text/plain": [
              "0.035578250885009766"
            ]
          },
          "metadata": {},
          "execution_count": 22
        }
      ]
    },
    {
      "cell_type": "code",
      "source": [
        "start_time = t.time()\n",
        "\n",
        "L5 = []\n",
        "\n",
        "for i in range(0,25000):\n",
        "  L5.append(r.randint(1,110))\n",
        "end_time=t.time()\n",
        "\n",
        "time_taken5 = end_time - start_time\n",
        "time_taken5"
      ],
      "metadata": {
        "colab": {
          "base_uri": "https://localhost:8080/"
        },
        "id": "glGQ7CCSflXm",
        "outputId": "673166bf-992b-4ec7-f65b-8d80de84f1af"
      },
      "execution_count": 24,
      "outputs": [
        {
          "output_type": "execute_result",
          "data": {
            "text/plain": [
              "0.04225873947143555"
            ]
          },
          "metadata": {},
          "execution_count": 24
        }
      ]
    },
    {
      "cell_type": "code",
      "source": [
        "import matplotlib.pyplot as plt\n",
        "import seaborn as sns\n",
        "\n",
        "x = [\"5k\" , \"10k\" , \"15k\" , \"20k\" , \"25k\"]\n",
        "y = [time_taken1 , time_taken2 , time_taken3 , time_taken4 , time_taken5]\n",
        "\n",
        "pp = sns.barplot(x=x , y=y)\n",
        "pp.set_ylabel(\"Time Taken By Program\")\n",
        "pp.set_xlabel(\"Number Of Elements in the List\")\n",
        "pp.set_title('Program Time Report')"
      ],
      "metadata": {
        "colab": {
          "base_uri": "https://localhost:8080/",
          "height": 489
        },
        "id": "LrP4Y_ihgAkF",
        "outputId": "e651891a-ed7b-44ca-bff6-0541a13fd96d"
      },
      "execution_count": 25,
      "outputs": [
        {
          "output_type": "execute_result",
          "data": {
            "text/plain": [
              "Text(0.5, 1.0, 'Program Time Report')"
            ]
          },
          "metadata": {},
          "execution_count": 25
        },
        {
          "output_type": "display_data",
          "data": {
            "text/plain": [
              "<Figure size 640x480 with 1 Axes>"
            ],
            "image/png": "[encoded data removed]"
          },
          "metadata": {}
        }
      ]
    },
    {
      "cell_type": "markdown",
      "source": [
        "# Question 13"
      ],
      "metadata": {
        "id": "KTsl8NaDjre1"
      }
    },
    {
      "cell_type": "code",
      "source": [],
      "metadata": {
        "id": "M9akcGO_jwiD"
      },
      "execution_count": null,
      "outputs": []
    }
  ]
}